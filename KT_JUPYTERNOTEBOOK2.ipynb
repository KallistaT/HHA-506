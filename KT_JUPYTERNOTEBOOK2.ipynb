{
  "nbformat": 4,
  "nbformat_minor": 0,
  "metadata": {
    "colab": {
      "name": "KT_JUPYTERNOTEBOOK2.ipynb",
      "provenance": [],
      "collapsed_sections": []
    },
    "kernelspec": {
      "name": "python3",
      "display_name": "Python 3"
    },
    "language_info": {
      "name": "python"
    }
  },
  "cells": [
    {
      "cell_type": "code",
      "metadata": {
        "id": "ZSP3p5z5owqG"
      },
      "source": [
        "import pandas as pd\n",
        "import numpy as np \n",
        "import seaborn as sns\n",
        "import plotly"
      ],
      "execution_count": null,
      "outputs": []
    },
    {
      "cell_type": "code",
      "metadata": {
        "id": "optHAzMJoyWQ"
      },
      "source": [
        "from google.colab import files\n",
        "\n",
        "import io\n",
        "url = r'https://raw.githubusercontent.com/KallistaT/HHA-506/main/asthma-hospitalization-rates-by-county-2015_2018%20(1).csv'\n",
        "df = pd.read_csv(url, encoding ='latin1')"
      ],
      "execution_count": null,
      "outputs": []
    },
    {
      "cell_type": "markdown",
      "metadata": {
        "id": "teA5f_3t3xny"
      },
      "source": [
        "Describing the variables"
      ]
    },
    {
      "cell_type": "code",
      "metadata": {
        "colab": {
          "base_uri": "https://localhost:8080/"
        },
        "id": "E7R66gVE3zIu",
        "outputId": "cc162eb5-f892-48b9-8173-d8e2f369d006"
      },
      "source": [
        "df.info()"
      ],
      "execution_count": null,
      "outputs": [
        {
          "output_type": "stream",
          "text": [
            "<class 'pandas.core.frame.DataFrame'>\n",
            "RangeIndex: 2832 entries, 0 to 2831\n",
            "Data columns (total 8 columns):\n",
            " #   Column                             Non-Null Count  Dtype  \n",
            "---  ------                             --------------  -----  \n",
            " 0   COUNTY                             2832 non-null   object \n",
            " 1   YEAR                               2832 non-null   int64  \n",
            " 2   STRATA                             2832 non-null   object \n",
            " 3   STRATA NAME                        2832 non-null   object \n",
            " 4   AGE GROUP                          2832 non-null   object \n",
            " 5   NUMBER OF HOSPITALIZATIONS         2037 non-null   object \n",
            " 6   AGE-ADJUSTED HOSPITALIZATION RATE  1985 non-null   float64\n",
            " 7   COMMENT                            847 non-null    object \n",
            "dtypes: float64(1), int64(1), object(6)\n",
            "memory usage: 177.1+ KB\n"
          ],
          "name": "stdout"
        }
      ]
    },
    {
      "cell_type": "markdown",
      "metadata": {
        "id": "5xSi_wczEXss"
      },
      "source": [
        "**Potential DV**\n",
        "\n",
        "*   Number of hospitalizations\n",
        "*   Age-adjusted hospitalization rate\n",
        "\n",
        "**Potential IV**\n",
        "\n",
        "\n",
        "*   Age group\n",
        "*   Race/ethnicity\n",
        "*  County \n",
        "*  Year\n",
        "\n",
        "\n",
        "\n"
      ]
    },
    {
      "cell_type": "markdown",
      "metadata": {
        "id": "dbh4fvuqEZwm"
      },
      "source": [
        ""
      ]
    },
    {
      "cell_type": "code",
      "metadata": {
        "colab": {
          "base_uri": "https://localhost:8080/"
        },
        "id": "gkV5bGgw44YQ",
        "outputId": "f3b3ce8f-d72f-4839-b5c1-b9438d7fac84"
      },
      "source": [
        "list(df)"
      ],
      "execution_count": null,
      "outputs": [
        {
          "output_type": "execute_result",
          "data": {
            "text/plain": [
              "['COUNTY',\n",
              " 'YEAR',\n",
              " 'STRATA',\n",
              " 'STRATA NAME',\n",
              " 'AGE GROUP',\n",
              " 'NUMBER OF HOSPITALIZATIONS',\n",
              " 'AGE-ADJUSTED HOSPITALIZATION RATE',\n",
              " 'COMMENT']"
            ]
          },
          "metadata": {
            "tags": []
          },
          "execution_count": 7
        }
      ]
    },
    {
      "cell_type": "markdown",
      "metadata": {
        "id": "qD9gRJNeOWCt"
      },
      "source": [
        "Value counts"
      ]
    },
    {
      "cell_type": "code",
      "metadata": {
        "colab": {
          "base_uri": "https://localhost:8080/"
        },
        "id": "1-qT2H0s5Bqo",
        "outputId": "2a84a6bc-c732-43ef-d432-986394309686"
      },
      "source": [
        "df['COUNTY'].value_counts()"
      ],
      "execution_count": null,
      "outputs": [
        {
          "output_type": "execute_result",
          "data": {
            "text/plain": [
              "California         48\n",
              "Shasta             48\n",
              "Inyo               48\n",
              "Monterey           48\n",
              "Mariposa           48\n",
              "Trinity            48\n",
              "Fresno             48\n",
              "Placer             48\n",
              "Orange             48\n",
              "Stanislaus         48\n",
              "Siskiyou           48\n",
              "Sierra             48\n",
              "Sacramento         48\n",
              "Mono               48\n",
              "Merced             48\n",
              "Santa Cruz         48\n",
              "El Dorado          48\n",
              "Kern               48\n",
              "Tehama             48\n",
              "Colusa             48\n",
              "San Francisco      48\n",
              "Del Norte          48\n",
              "Butte              48\n",
              "Santa Barbara      48\n",
              "Alpine             48\n",
              "San Joaquin        48\n",
              "Lake               48\n",
              "Kings              48\n",
              "Contra Costa       48\n",
              "San Mateo          48\n",
              "Riverside          48\n",
              "San Luis Obispo    48\n",
              "Marin              48\n",
              "Amador             48\n",
              "San Benito         48\n",
              "Imperial           48\n",
              "Mendocino          48\n",
              "Sonoma             48\n",
              "Modoc              48\n",
              "San Diego          48\n",
              "Ventura            48\n",
              "Glenn              48\n",
              "Lassen             48\n",
              "Yolo               48\n",
              "Napa               48\n",
              "Sutter             48\n",
              "Plumas             48\n",
              "Tuolumne           48\n",
              "Nevada             48\n",
              "Solano             48\n",
              "Tulare             48\n",
              "Humboldt           48\n",
              "Madera             48\n",
              "Calaveras          48\n",
              "Yuba               48\n",
              "Alameda            48\n",
              "San Bernardino     48\n",
              "Los Angeles        48\n",
              "Santa Clara        48\n",
              "Name: COUNTY, dtype: int64"
            ]
          },
          "metadata": {
            "tags": []
          },
          "execution_count": 8
        }
      ]
    },
    {
      "cell_type": "code",
      "metadata": {
        "colab": {
          "base_uri": "https://localhost:8080/"
        },
        "id": "i6zcxFH7OYbc",
        "outputId": "bea3d496-31bb-415e-a711-406c7b2d99a3"
      },
      "source": [
        "df['YEAR'].value_counts()"
      ],
      "execution_count": null,
      "outputs": [
        {
          "output_type": "execute_result",
          "data": {
            "text/plain": [
              "2015    507\n",
              "2017    502\n",
              "2016    493\n",
              "2018    483\n",
              "Name: YEAR, dtype: int64"
            ]
          },
          "metadata": {
            "tags": []
          },
          "execution_count": 82
        }
      ]
    },
    {
      "cell_type": "code",
      "metadata": {
        "colab": {
          "base_uri": "https://localhost:8080/"
        },
        "id": "HgUnbFVtOfaI",
        "outputId": "66f10f90-270b-41e5-8e22-290be278073f"
      },
      "source": [
        "df['AGE GROUP'].value_counts()"
      ],
      "execution_count": null,
      "outputs": [
        {
          "output_type": "execute_result",
          "data": {
            "text/plain": [
              "All ages       988\n",
              "18+ years      186\n",
              "18-64 years    180\n",
              "0-17 years     173\n",
              "0-4 years      158\n",
              "65+ years      151\n",
              "5-17 years     149\n",
              "Name: AGE GROUP, dtype: int64"
            ]
          },
          "metadata": {
            "tags": []
          },
          "execution_count": 83
        }
      ]
    },
    {
      "cell_type": "code",
      "metadata": {
        "colab": {
          "base_uri": "https://localhost:8080/"
        },
        "id": "WkerlHLuOlIq",
        "outputId": "d30057ff-b95b-4490-dc53-712d13139071"
      },
      "source": [
        "df['STRATA'].value_counts()"
      ],
      "execution_count": null,
      "outputs": [
        {
          "output_type": "execute_result",
          "data": {
            "text/plain": [
              "Race/ethnicity      794\n",
              "Age groups          638\n",
              "Child vs. adult     359\n",
              "Total population    194\n",
              "Name: STRATA, dtype: int64"
            ]
          },
          "metadata": {
            "tags": []
          },
          "execution_count": 84
        }
      ]
    },
    {
      "cell_type": "code",
      "metadata": {
        "colab": {
          "base_uri": "https://localhost:8080/"
        },
        "id": "G5C3YIkgOoka",
        "outputId": "f49ca34b-b2a2-4ffc-ac7c-d8bf5b9c036c"
      },
      "source": [
        "df['STRATA NAME'].value_counts()"
      ],
      "execution_count": null,
      "outputs": [
        {
          "output_type": "execute_result",
          "data": {
            "text/plain": [
              "All ages       194\n",
              "18+ years      186\n",
              "White          182\n",
              "18-64 years    180\n",
              "0-17 years     173\n",
              "Hispanic       163\n",
              "0-4 years      158\n",
              "AI/AN          153\n",
              "Black          151\n",
              "65+ years      151\n",
              "5-17 years     149\n",
              "Asian/PI       145\n",
              "Name: STRATA NAME, dtype: int64"
            ]
          },
          "metadata": {
            "tags": []
          },
          "execution_count": 85
        }
      ]
    },
    {
      "cell_type": "markdown",
      "metadata": {
        "id": "aMYfSnnsAL0a"
      },
      "source": [
        "Missing Values and Data Cleaning"
      ]
    },
    {
      "cell_type": "code",
      "metadata": {
        "id": "5rbOhJ2kANLL"
      },
      "source": [
        "df = df.dropna(subset=['NUMBER OF HOSPITALIZATIONS','AGE-ADJUSTED HOSPITALIZATION RATE'], axis=0, how='any')\n",
        "# df = df.dropna(axis=0, how='all')\n",
        "df.drop(columns=['COMMENT'], axis=1)\n",
        "df['STRATA NAME'] = df['STRATA NAME'].str.replace('','-')\n",
        "df['AGE GROUP'] = df['AGE GROUP'].str.replace('','-')\n",
        "df['NUMBER OF HOSPITALIZATIONS'] = df['NUMBER OF HOSPITALIZATIONS'].str.replace(',','')\n",
        "df['NUMBER OF HOSPITALIZATIONS'] = df['NUMBER OF HOSPITALIZATIONS'].astype('int64', copy=False)"
      ],
      "execution_count": null,
      "outputs": []
    },
    {
      "cell_type": "code",
      "metadata": {
        "id": "ZPlMm-4gByyQ",
        "colab": {
          "base_uri": "https://localhost:8080/",
          "height": 614
        },
        "outputId": "459729de-48b6-4f5c-ee70-72b3890ff465"
      },
      "source": [
        "df[df['STRATA'] == 'Age groups']"
      ],
      "execution_count": null,
      "outputs": [
        {
          "output_type": "execute_result",
          "data": {
            "text/html": [
              "<div>\n",
              "<style scoped>\n",
              "    .dataframe tbody tr th:only-of-type {\n",
              "        vertical-align: middle;\n",
              "    }\n",
              "\n",
              "    .dataframe tbody tr th {\n",
              "        vertical-align: top;\n",
              "    }\n",
              "\n",
              "    .dataframe thead th {\n",
              "        text-align: right;\n",
              "    }\n",
              "</style>\n",
              "<table border=\"1\" class=\"dataframe\">\n",
              "  <thead>\n",
              "    <tr style=\"text-align: right;\">\n",
              "      <th></th>\n",
              "      <th>COUNTY</th>\n",
              "      <th>YEAR</th>\n",
              "      <th>STRATA</th>\n",
              "      <th>STRATA NAME</th>\n",
              "      <th>AGE GROUP</th>\n",
              "      <th>NUMBER OF HOSPITALIZATIONS</th>\n",
              "      <th>AGE-ADJUSTED HOSPITALIZATION RATE</th>\n",
              "      <th>COMMENT</th>\n",
              "    </tr>\n",
              "  </thead>\n",
              "  <tbody>\n",
              "    <tr>\n",
              "      <th>177</th>\n",
              "      <td>California</td>\n",
              "      <td>2015</td>\n",
              "      <td>Age groups</td>\n",
              "      <td>0-4 years</td>\n",
              "      <td>0-4 years</td>\n",
              "      <td>4748</td>\n",
              "      <td>18.3</td>\n",
              "      <td>NaN</td>\n",
              "    </tr>\n",
              "    <tr>\n",
              "      <th>178</th>\n",
              "      <td>Alameda</td>\n",
              "      <td>2015</td>\n",
              "      <td>Age groups</td>\n",
              "      <td>0-4 years</td>\n",
              "      <td>0-4 years</td>\n",
              "      <td>336</td>\n",
              "      <td>33.4</td>\n",
              "      <td>NaN</td>\n",
              "    </tr>\n",
              "    <tr>\n",
              "      <th>179</th>\n",
              "      <td>Alpine</td>\n",
              "      <td>2015</td>\n",
              "      <td>Age groups</td>\n",
              "      <td>0-4 years</td>\n",
              "      <td>0-4 years</td>\n",
              "      <td>0</td>\n",
              "      <td>0.0</td>\n",
              "      <td>NaN</td>\n",
              "    </tr>\n",
              "    <tr>\n",
              "      <th>181</th>\n",
              "      <td>Butte</td>\n",
              "      <td>2015</td>\n",
              "      <td>Age groups</td>\n",
              "      <td>0-4 years</td>\n",
              "      <td>0-4 years</td>\n",
              "      <td>27</td>\n",
              "      <td>24.0</td>\n",
              "      <td>NaN</td>\n",
              "    </tr>\n",
              "    <tr>\n",
              "      <th>184</th>\n",
              "      <td>Contra Costa</td>\n",
              "      <td>2015</td>\n",
              "      <td>Age groups</td>\n",
              "      <td>0-4 years</td>\n",
              "      <td>0-4 years</td>\n",
              "      <td>161</td>\n",
              "      <td>25.5</td>\n",
              "      <td>NaN</td>\n",
              "    </tr>\n",
              "    <tr>\n",
              "      <th>...</th>\n",
              "      <td>...</td>\n",
              "      <td>...</td>\n",
              "      <td>...</td>\n",
              "      <td>...</td>\n",
              "      <td>...</td>\n",
              "      <td>...</td>\n",
              "      <td>...</td>\n",
              "      <td>...</td>\n",
              "    </tr>\n",
              "    <tr>\n",
              "      <th>2528</th>\n",
              "      <td>Stanislaus</td>\n",
              "      <td>2018</td>\n",
              "      <td>Age groups</td>\n",
              "      <td>65+ years</td>\n",
              "      <td>65+ years</td>\n",
              "      <td>32</td>\n",
              "      <td>4.3</td>\n",
              "      <td>NaN</td>\n",
              "    </tr>\n",
              "    <tr>\n",
              "      <th>2531</th>\n",
              "      <td>Trinity</td>\n",
              "      <td>2018</td>\n",
              "      <td>Age groups</td>\n",
              "      <td>65+ years</td>\n",
              "      <td>65+ years</td>\n",
              "      <td>0</td>\n",
              "      <td>0.0</td>\n",
              "      <td>NaN</td>\n",
              "    </tr>\n",
              "    <tr>\n",
              "      <th>2532</th>\n",
              "      <td>Tulare</td>\n",
              "      <td>2018</td>\n",
              "      <td>Age groups</td>\n",
              "      <td>65+ years</td>\n",
              "      <td>65+ years</td>\n",
              "      <td>15</td>\n",
              "      <td>2.6</td>\n",
              "      <td>NaN</td>\n",
              "    </tr>\n",
              "    <tr>\n",
              "      <th>2534</th>\n",
              "      <td>Ventura</td>\n",
              "      <td>2018</td>\n",
              "      <td>Age groups</td>\n",
              "      <td>65+ years</td>\n",
              "      <td>65+ years</td>\n",
              "      <td>64</td>\n",
              "      <td>4.8</td>\n",
              "      <td>NaN</td>\n",
              "    </tr>\n",
              "    <tr>\n",
              "      <th>2535</th>\n",
              "      <td>Yolo</td>\n",
              "      <td>2018</td>\n",
              "      <td>Age groups</td>\n",
              "      <td>65+ years</td>\n",
              "      <td>65+ years</td>\n",
              "      <td>17</td>\n",
              "      <td>6.3</td>\n",
              "      <td>NaN</td>\n",
              "    </tr>\n",
              "  </tbody>\n",
              "</table>\n",
              "<p>638 rows × 8 columns</p>\n",
              "</div>"
            ],
            "text/plain": [
              "            COUNTY  YEAR  ... AGE-ADJUSTED HOSPITALIZATION RATE COMMENT\n",
              "177     California  2015  ...                              18.3     NaN\n",
              "178        Alameda  2015  ...                              33.4     NaN\n",
              "179         Alpine  2015  ...                               0.0     NaN\n",
              "181          Butte  2015  ...                              24.0     NaN\n",
              "184   Contra Costa  2015  ...                              25.5     NaN\n",
              "...            ...   ...  ...                               ...     ...\n",
              "2528    Stanislaus  2018  ...                               4.3     NaN\n",
              "2531       Trinity  2018  ...                               0.0     NaN\n",
              "2532        Tulare  2018  ...                               2.6     NaN\n",
              "2534       Ventura  2018  ...                               4.8     NaN\n",
              "2535          Yolo  2018  ...                               6.3     NaN\n",
              "\n",
              "[638 rows x 8 columns]"
            ]
          },
          "metadata": {
            "tags": []
          },
          "execution_count": 11
        }
      ]
    },
    {
      "cell_type": "markdown",
      "metadata": {
        "id": "pdPi_EVxPDHo"
      },
      "source": [
        "Transformations"
      ]
    },
    {
      "cell_type": "code",
      "metadata": {
        "id": "WBdPhATVlUY3",
        "colab": {
          "base_uri": "https://localhost:8080/",
          "height": 175
        },
        "outputId": "7b349f89-1347-4923-fbf3-9e34f4712905"
      },
      "source": [
        "#For simplicity's sake I left out overlapping age groups so some counties will be omitted \n",
        "\n",
        "granular_age_groups = ['0-4 years', '5-17 years', '18-64 years', '65+ years']\n",
        "df_temp = df[df['AGE GROUP'].isin(granular_age_groups)]\n",
        "df_temp = df_temp.drop(columns=['YEAR', 'AGE-ADJUSTED HOSPITALIZATION RATE'])\n",
        "df_age_group = df_temp.groupby('AGE GROUP', as_index=False).sum()\n",
        "def age_group_sorter(col):\n",
        "  \"\"\"Sort age groups in ascending order\"\"\"\n",
        "  corr = {age_group: order for order, age_group in enumerate(granular_age_groups)}\n",
        "  return col.map(corr)\n",
        "df_age_group.sort_values(by='AGE GROUP', key=age_group_sorter)"
      ],
      "execution_count": null,
      "outputs": [
        {
          "output_type": "execute_result",
          "data": {
            "text/html": [
              "<div>\n",
              "<style scoped>\n",
              "    .dataframe tbody tr th:only-of-type {\n",
              "        vertical-align: middle;\n",
              "    }\n",
              "\n",
              "    .dataframe tbody tr th {\n",
              "        vertical-align: top;\n",
              "    }\n",
              "\n",
              "    .dataframe thead th {\n",
              "        text-align: right;\n",
              "    }\n",
              "</style>\n",
              "<table border=\"1\" class=\"dataframe\">\n",
              "  <thead>\n",
              "    <tr style=\"text-align: right;\">\n",
              "      <th></th>\n",
              "      <th>AGE GROUP</th>\n",
              "      <th>NUMBER OF HOSPITALIZATIONS</th>\n",
              "    </tr>\n",
              "  </thead>\n",
              "  <tbody>\n",
              "    <tr>\n",
              "      <th>0</th>\n",
              "      <td>0-4 years</td>\n",
              "      <td>33152</td>\n",
              "    </tr>\n",
              "    <tr>\n",
              "      <th>2</th>\n",
              "      <td>5-17 years</td>\n",
              "      <td>34589</td>\n",
              "    </tr>\n",
              "    <tr>\n",
              "      <th>1</th>\n",
              "      <td>18-64 years</td>\n",
              "      <td>62560</td>\n",
              "    </tr>\n",
              "    <tr>\n",
              "      <th>3</th>\n",
              "      <td>65+ years</td>\n",
              "      <td>29014</td>\n",
              "    </tr>\n",
              "  </tbody>\n",
              "</table>\n",
              "</div>"
            ],
            "text/plain": [
              "     AGE GROUP  NUMBER OF HOSPITALIZATIONS\n",
              "0    0-4 years                       33152\n",
              "2   5-17 years                       34589\n",
              "1  18-64 years                       62560\n",
              "3    65+ years                       29014"
            ]
          },
          "metadata": {
            "tags": []
          },
          "execution_count": 69
        }
      ]
    },
    {
      "cell_type": "markdown",
      "metadata": {
        "id": "bdFO7e-tNA1C"
      },
      "source": [
        "Distribution - Right Skewed"
      ]
    },
    {
      "cell_type": "code",
      "metadata": {
        "colab": {
          "base_uri": "https://localhost:8080/",
          "height": 283
        },
        "id": "LzDUeTQsMmJZ",
        "outputId": "475c9015-65a6-489b-f430-1f41041f64d0"
      },
      "source": [
        "df_temp['NUMBER OF HOSPITALIZATIONS'].hist()"
      ],
      "execution_count": null,
      "outputs": [
        {
          "output_type": "execute_result",
          "data": {
            "text/plain": [
              "<matplotlib.axes._subplots.AxesSubplot at 0x7f4d80bd1550>"
            ]
          },
          "metadata": {
            "tags": []
          },
          "execution_count": 81
        },
        {
          "output_type": "display_data",
          "data": {
            "image/png": "[encoded data removed]",
            "text/plain": [
              "<Figure size 432x288 with 1 Axes>"
            ]
          },
          "metadata": {
            "tags": [],
            "needs_background": "light"
          }
        }
      ]
    },
    {
      "cell_type": "code",
      "metadata": {
        "colab": {
          "base_uri": "https://localhost:8080/",
          "height": 300
        },
        "id": "eYH27xQE5URz",
        "outputId": "ae142f30-2136-4e66-cfb1-6fa05a7adaa7"
      },
      "source": [
        "df_temp[['AGE GROUP','NUMBER OF HOSPITALIZATIONS']].describe()"
      ],
      "execution_count": null,
      "outputs": [
        {
          "output_type": "execute_result",
          "data": {
            "text/html": [
              "<div>\n",
              "<style scoped>\n",
              "    .dataframe tbody tr th:only-of-type {\n",
              "        vertical-align: middle;\n",
              "    }\n",
              "\n",
              "    .dataframe tbody tr th {\n",
              "        vertical-align: top;\n",
              "    }\n",
              "\n",
              "    .dataframe thead th {\n",
              "        text-align: right;\n",
              "    }\n",
              "</style>\n",
              "<table border=\"1\" class=\"dataframe\">\n",
              "  <thead>\n",
              "    <tr style=\"text-align: right;\">\n",
              "      <th></th>\n",
              "      <th>NUMBER OF HOSPITALIZATIONS</th>\n",
              "    </tr>\n",
              "  </thead>\n",
              "  <tbody>\n",
              "    <tr>\n",
              "      <th>count</th>\n",
              "      <td>638.000000</td>\n",
              "    </tr>\n",
              "    <tr>\n",
              "      <th>mean</th>\n",
              "      <td>249.710031</td>\n",
              "    </tr>\n",
              "    <tr>\n",
              "      <th>std</th>\n",
              "      <td>886.007872</td>\n",
              "    </tr>\n",
              "    <tr>\n",
              "      <th>min</th>\n",
              "      <td>0.000000</td>\n",
              "    </tr>\n",
              "    <tr>\n",
              "      <th>25%</th>\n",
              "      <td>18.000000</td>\n",
              "    </tr>\n",
              "    <tr>\n",
              "      <th>50%</th>\n",
              "      <td>41.000000</td>\n",
              "    </tr>\n",
              "    <tr>\n",
              "      <th>75%</th>\n",
              "      <td>136.500000</td>\n",
              "    </tr>\n",
              "    <tr>\n",
              "      <th>max</th>\n",
              "      <td>10939.000000</td>\n",
              "    </tr>\n",
              "  </tbody>\n",
              "</table>\n",
              "</div>"
            ],
            "text/plain": [
              "       NUMBER OF HOSPITALIZATIONS\n",
              "count                  638.000000\n",
              "mean                   249.710031\n",
              "std                    886.007872\n",
              "min                      0.000000\n",
              "25%                     18.000000\n",
              "50%                     41.000000\n",
              "75%                    136.500000\n",
              "max                  10939.000000"
            ]
          },
          "metadata": {
            "tags": []
          },
          "execution_count": 21
        }
      ]
    },
    {
      "cell_type": "code",
      "metadata": {
        "colab": {
          "base_uri": "https://localhost:8080/"
        },
        "id": "T3QU1t6r6KQ1",
        "outputId": "18592dd5-70c0-4fe0-a0bc-8e60fa29ff09"
      },
      "source": [
        "df_temp['NUMBER OF HOSPITALIZATIONS'].mean(numeric_only=None)"
      ],
      "execution_count": null,
      "outputs": [
        {
          "output_type": "execute_result",
          "data": {
            "text/plain": [
              "249.71003134796237"
            ]
          },
          "metadata": {
            "tags": []
          },
          "execution_count": 24
        }
      ]
    },
    {
      "cell_type": "code",
      "metadata": {
        "colab": {
          "base_uri": "https://localhost:8080/"
        },
        "id": "VJEFwZFB6epN",
        "outputId": "2dbc9fa6-3020-4c5d-f7e0-595f6b44af8a"
      },
      "source": [
        "df_temp['NUMBER OF HOSPITALIZATIONS'].median(numeric_only=None)"
      ],
      "execution_count": null,
      "outputs": [
        {
          "output_type": "execute_result",
          "data": {
            "text/plain": [
              "41.0"
            ]
          },
          "metadata": {
            "tags": []
          },
          "execution_count": 25
        }
      ]
    },
    {
      "cell_type": "code",
      "metadata": {
        "colab": {
          "base_uri": "https://localhost:8080/"
        },
        "id": "ZAATCsbH6mGU",
        "outputId": "b2c22811-d676-4eb0-8d64-4c8302238b62"
      },
      "source": [
        "df_temp['NUMBER OF HOSPITALIZATIONS'].mode(dropna=False)"
      ],
      "execution_count": null,
      "outputs": [
        {
          "output_type": "execute_result",
          "data": {
            "text/plain": [
              "0    0\n",
              "dtype: int64"
            ]
          },
          "metadata": {
            "tags": []
          },
          "execution_count": 27
        }
      ]
    },
    {
      "cell_type": "code",
      "metadata": {
        "colab": {
          "base_uri": "https://localhost:8080/"
        },
        "id": "9ifBbhw0yFeZ",
        "outputId": "759c8571-a8df-488f-b8c4-44e648ed94df"
      },
      "source": [
        "!pip install matplotlib==3.1.3"
      ],
      "execution_count": null,
      "outputs": [
        {
          "output_type": "stream",
          "text": [
            "Requirement already satisfied: matplotlib==3.1.3 in /usr/local/lib/python3.7/dist-packages (3.1.3)\n",
            "Requirement already satisfied: pyparsing!=2.0.4,!=2.1.2,!=2.1.6,>=2.0.1 in /usr/local/lib/python3.7/dist-packages (from matplotlib==3.1.3) (2.4.7)\n",
            "Requirement already satisfied: python-dateutil>=2.1 in /usr/local/lib/python3.7/dist-packages (from matplotlib==3.1.3) (2.8.1)\n",
            "Requirement already satisfied: numpy>=1.11 in /usr/local/lib/python3.7/dist-packages (from matplotlib==3.1.3) (1.19.5)\n",
            "Requirement already satisfied: cycler>=0.10 in /usr/local/lib/python3.7/dist-packages (from matplotlib==3.1.3) (0.10.0)\n",
            "Requirement already satisfied: kiwisolver>=1.0.1 in /usr/local/lib/python3.7/dist-packages (from matplotlib==3.1.3) (1.3.1)\n",
            "Requirement already satisfied: six in /usr/local/lib/python3.7/dist-packages (from cycler>=0.10->matplotlib==3.1.3) (1.15.0)\n"
          ],
          "name": "stdout"
        }
      ]
    },
    {
      "cell_type": "code",
      "metadata": {
        "colab": {
          "base_uri": "https://localhost:8080/",
          "height": 297
        },
        "id": "MGcsrl0y3Wy4",
        "outputId": "f462e33d-3ae0-4d4d-8cf3-4c128b1cca33"
      },
      "source": [
        "sns.barplot(data=df_temp, x = 'AGE GROUP', y = 'NUMBER OF HOSPITALIZATIONS')"
      ],
      "execution_count": null,
      "outputs": [
        {
          "output_type": "execute_result",
          "data": {
            "text/plain": [
              "<matplotlib.axes._subplots.AxesSubplot at 0x7f4d884ae290>"
            ]
          },
          "metadata": {
            "tags": []
          },
          "execution_count": 17
        },
        {
          "output_type": "display_data",
          "data": {
            "image/png": "[encoded data removed]",
            "text/plain": [
              "<Figure size 432x288 with 1 Axes>"
            ]
          },
          "metadata": {
            "tags": [],
            "needs_background": "light"
          }
        }
      ]
    },
    {
      "cell_type": "markdown",
      "metadata": {
        "id": "XMn7ONtGOG6y"
      },
      "source": [
        ""
      ]
    },
    {
      "cell_type": "code",
      "metadata": {
        "id": "YFvUc2pc4poy"
      },
      "source": [
        "import plotly.express as px"
      ],
      "execution_count": null,
      "outputs": []
    },
    {
      "cell_type": "markdown",
      "metadata": {
        "id": "CnnzSM0rOE6L"
      },
      "source": [
        "Asthma hospitalizations in California by age group, 2015 -2018"
      ]
    },
    {
      "cell_type": "code",
      "metadata": {
        "colab": {
          "base_uri": "https://localhost:8080/",
          "height": 542
        },
        "id": "FIf-k4DU4xJ7",
        "outputId": "288102dd-7e81-41ee-cd01-c19e2f947671"
      },
      "source": [
        "fig = px.bar(df_temp, x='AGE GROUP', y='NUMBER OF HOSPITALIZATIONS', template=\"plotly_dark\", color='AGE GROUP')\n",
        "fig.show()"
      ],
      "execution_count": null,
      "outputs": [
        {
          "output_type": "display_data",
          "data": {
            "text/html": [
              "<html>\n",
              "<head><meta charset=\"utf-8\" /></head>\n",
              "<body>\n",
              "    <div>\n",
              "            <script src=\"https://cdnjs.cloudflare.com/ajax/libs/mathjax/2.7.5/MathJax.js?config=TeX-AMS-MML_SVG\"></script><script type=\"text/javascript\">if (window.MathJax) {MathJax.Hub.Config({SVG: {font: \"STIX-Web\"}});}</script>\n",
              "                <script type=\"text/javascript\">window.PlotlyConfig = {MathJaxConfig: 'local'};</script>\n",
              "        <script src=\"https://cdn.plot.ly/plotly-latest.min.js\"></script>    \n",
              "            <div id=\"43a92cb8-2d10-4f44-9136-6b5068cfdde6\" class=\"plotly-graph-div\" style=\"height:525px; width:100%;\"></div>\n",
              "            <script type=\"text/javascript\">\n",
              "                \n",
              "                    window.PLOTLYENV=window.PLOTLYENV || {};\n",
              "                    \n",
              "                if (document.getElementById(\"43a92cb8-2d10-4f44-9136-6b5068cfdde6\")) {\n",
              "                    Plotly.newPlot(\n",
              "                        '43a92cb8-2d10-4f44-9136-6b5068cfdde6',\n",
              "                        [{\"alignmentgroup\": \"True\", \"hoverlabel\": {\"namelength\": 0}, \"hovertemplate\": \"AGE GROUP=%{x}<br>NUMBER OF HOSPITALIZATIONS=%{y}\", \"legendgroup\": \"AGE GROUP=0-4 years\", \"marker\": {\"color\": \"#636efa\"}, \"name\": \"AGE GROUP=0-4 years\", \"offsetgroup\": \"AGE GROUP=0-4 years\", \"orientation\": \"v\", \"showlegend\": true, \"textposition\": \"auto\", \"type\": \"bar\", \"x\": [\"0-4 years\", \"0-4 years\", \"0-4 years\", \"0-4 years\", \"0-4 years\", \"0-4 years\", \"0-4 years\", \"0-4 years\", \"0-4 years\", \"0-4 years\", \"0-4 years\", \"0-4 years\", \"0-4 years\", \"0-4 years\", \"0-4 years\", \"0-4 years\", \"0-4 years\", \"0-4 years\", \"0-4 years\", \"0-4 years\", \"0-4 years\", \"0-4 years\", \"0-4 years\", \"0-4 years\", \"0-4 years\", \"0-4 years\", \"0-4 years\", \"0-4 years\", \"0-4 years\", \"0-4 years\", \"0-4 years\", \"0-4 years\", \"0-4 years\", \"0-4 years\", \"0-4 years\", \"0-4 years\", \"0-4 years\", \"0-4 years\", \"0-4 years\", \"0-4 years\", \"0-4 years\", \"0-4 years\", \"0-4 years\", \"0-4 years\", \"0-4 years\", \"0-4 years\", \"0-4 years\", \"0-4 years\", \"0-4 years\", \"0-4 years\", \"0-4 years\", \"0-4 years\", \"0-4 years\", \"0-4 years\", \"0-4 years\", \"0-4 years\", \"0-4 years\", \"0-4 years\", \"0-4 years\", \"0-4 years\", \"0-4 years\", \"0-4 years\", \"0-4 years\", \"0-4 years\", \"0-4 years\", \"0-4 years\", \"0-4 years\", \"0-4 years\", \"0-4 years\", \"0-4 years\", \"0-4 years\", \"0-4 years\", \"0-4 years\", \"0-4 years\", \"0-4 years\", \"0-4 years\", \"0-4 years\", \"0-4 years\", \"0-4 years\", \"0-4 years\", \"0-4 years\", \"0-4 years\", \"0-4 years\", \"0-4 years\", \"0-4 years\", \"0-4 years\", \"0-4 years\", \"0-4 years\", \"0-4 years\", \"0-4 years\", \"0-4 years\", \"0-4 years\", \"0-4 years\", \"0-4 years\", \"0-4 years\", \"0-4 years\", \"0-4 years\", \"0-4 years\", \"0-4 years\", \"0-4 years\", \"0-4 years\", \"0-4 years\", \"0-4 years\", \"0-4 years\", \"0-4 years\", \"0-4 years\", \"0-4 years\", \"0-4 years\", \"0-4 years\", \"0-4 years\", \"0-4 years\", \"0-4 years\", \"0-4 years\", \"0-4 years\", \"0-4 years\", \"0-4 years\", \"0-4 years\", \"0-4 years\", \"0-4 years\", \"0-4 years\", \"0-4 years\", \"0-4 years\", \"0-4 years\", \"0-4 years\", \"0-4 years\", \"0-4 years\", \"0-4 years\", \"0-4 years\", \"0-4 years\", \"0-4 years\", \"0-4 years\", \"0-4 years\", \"0-4 years\", \"0-4 years\", \"0-4 years\", \"0-4 years\", \"0-4 years\", \"0-4 years\", \"0-4 years\", \"0-4 years\", \"0-4 years\", \"0-4 years\", \"0-4 years\", \"0-4 years\", \"0-4 years\", \"0-4 years\", \"0-4 years\", \"0-4 years\", \"0-4 years\", \"0-4 years\", \"0-4 years\", \"0-4 years\", \"0-4 years\", \"0-4 years\", \"0-4 years\", \"0-4 years\", \"0-4 years\", \"0-4 years\"], \"xaxis\": \"x\", \"y\": [4748, 336, 0, 27, 161, 273, 45, 113, 25, 1276, 26, 15, 0, 36, 0, 46, 313, 26, 175, 235, 252, 440, 113, 90, 18, 47, 34, 168, 18, 21, 0, 42, 54, 60, 0, 79, 60, 24, 4209, 216, 0, 17, 137, 257, 12, 37, 69, 12, 12, 0, 1221, 34, 22, 12, 29, 0, 0, 36, 293, 24, 0, 200, 209, 255, 350, 118, 86, 13, 53, 30, 130, 15, 21, 0, 31, 41, 36, 0, 71, 36, 19, 4113, 241, 0, 18, 111, 202, 29, 97, 14, 15, 0, 1177, 24, 15, 33, 0, 28, 13, 250, 19, 0, 166, 243, 237, 342, 121, 104, 20, 42, 18, 133, 27, 21, 0, 31, 52, 48, 68, 45, 18, 12, 3679, 145, 0, 24, 99, 211, 19, 84, 0, 1116, 23, 16, 29, 40, 242, 0, 158, 184, 215, 308, 97, 92, 23, 36, 16, 111, 26, 14, 0, 0, 29, 35, 60, 53, 48, 14], \"yaxis\": \"y\"}, {\"alignmentgroup\": \"True\", \"hoverlabel\": {\"namelength\": 0}, \"hovertemplate\": \"AGE GROUP=%{x}<br>NUMBER OF HOSPITALIZATIONS=%{y}\", \"legendgroup\": \"AGE GROUP=5-17 years\", \"marker\": {\"color\": \"#EF553B\"}, \"name\": \"AGE GROUP=5-17 years\", \"offsetgroup\": \"AGE GROUP=5-17 years\", \"orientation\": \"v\", \"showlegend\": true, \"textposition\": \"auto\", \"type\": \"bar\", \"x\": [\"5-17 years\", \"5-17 years\", \"5-17 years\", \"5-17 years\", \"5-17 years\", \"5-17 years\", \"5-17 years\", \"5-17 years\", \"5-17 years\", \"5-17 years\", \"5-17 years\", \"5-17 years\", \"5-17 years\", \"5-17 years\", \"5-17 years\", \"5-17 years\", \"5-17 years\", \"5-17 years\", \"5-17 years\", \"5-17 years\", \"5-17 years\", \"5-17 years\", \"5-17 years\", \"5-17 years\", \"5-17 years\", \"5-17 years\", \"5-17 years\", \"5-17 years\", \"5-17 years\", \"5-17 years\", \"5-17 years\", \"5-17 years\", \"5-17 years\", \"5-17 years\", \"5-17 years\", \"5-17 years\", \"5-17 years\", \"5-17 years\", \"5-17 years\", \"5-17 years\", \"5-17 years\", \"5-17 years\", \"5-17 years\", \"5-17 years\", \"5-17 years\", \"5-17 years\", \"5-17 years\", \"5-17 years\", \"5-17 years\", \"5-17 years\", \"5-17 years\", \"5-17 years\", \"5-17 years\", \"5-17 years\", \"5-17 years\", \"5-17 years\", \"5-17 years\", \"5-17 years\", \"5-17 years\", \"5-17 years\", \"5-17 years\", \"5-17 years\", \"5-17 years\", \"5-17 years\", \"5-17 years\", \"5-17 years\", \"5-17 years\", \"5-17 years\", \"5-17 years\", \"5-17 years\", \"5-17 years\", \"5-17 years\", \"5-17 years\", \"5-17 years\", \"5-17 years\", \"5-17 years\", \"5-17 years\", \"5-17 years\", \"5-17 years\", \"5-17 years\", \"5-17 years\", \"5-17 years\", \"5-17 years\", \"5-17 years\", \"5-17 years\", \"5-17 years\", \"5-17 years\", \"5-17 years\", \"5-17 years\", \"5-17 years\", \"5-17 years\", \"5-17 years\", \"5-17 years\", \"5-17 years\", \"5-17 years\", \"5-17 years\", \"5-17 years\", \"5-17 years\", \"5-17 years\", \"5-17 years\", \"5-17 years\", \"5-17 years\", \"5-17 years\", \"5-17 years\", \"5-17 years\", \"5-17 years\", \"5-17 years\", \"5-17 years\", \"5-17 years\", \"5-17 years\", \"5-17 years\", \"5-17 years\", \"5-17 years\", \"5-17 years\", \"5-17 years\", \"5-17 years\", \"5-17 years\", \"5-17 years\", \"5-17 years\", \"5-17 years\", \"5-17 years\", \"5-17 years\", \"5-17 years\", \"5-17 years\", \"5-17 years\", \"5-17 years\", \"5-17 years\", \"5-17 years\", \"5-17 years\", \"5-17 years\", \"5-17 years\", \"5-17 years\", \"5-17 years\", \"5-17 years\", \"5-17 years\", \"5-17 years\", \"5-17 years\", \"5-17 years\", \"5-17 years\", \"5-17 years\", \"5-17 years\", \"5-17 years\", \"5-17 years\", \"5-17 years\", \"5-17 years\", \"5-17 years\", \"5-17 years\", \"5-17 years\", \"5-17 years\"], \"xaxis\": \"x\", \"y\": [4637, 275, 0, 27, 145, 258, 70, 0, 104, 27, 1363, 22, 37, 67, 249, 16, 0, 262, 234, 317, 348, 78, 95, 22, 44, 40, 131, 12, 20, 0, 32, 36, 77, 0, 66, 50, 14, 4485, 230, 0, 18, 0, 135, 14, 251, 57, 98, 19, 1343, 41, 35, 0, 0, 36, 259, 15, 300, 226, 348, 309, 85, 85, 24, 36, 46, 129, 15, 0, 23, 40, 52, 60, 52, 16, 4355, 241, 0, 19, 127, 0, 13, 256, 0, 53, 106, 13, 1210, 26, 19, 0, 45, 231, 18, 223, 281, 280, 363, 79, 119, 28, 46, 27, 109, 22, 0, 41, 30, 66, 0, 68, 53, 31, 4020, 161, 0, 14, 82, 227, 49, 84, 19, 1292, 23, 16, 23, 0, 36, 199, 19, 221, 215, 272, 354, 84, 63, 18, 40, 24, 93, 12, 17, 0, 39, 25, 65, 0, 69, 46, 13], \"yaxis\": \"y\"}, {\"alignmentgroup\": \"True\", \"hoverlabel\": {\"namelength\": 0}, \"hovertemplate\": \"AGE GROUP=%{x}<br>NUMBER OF HOSPITALIZATIONS=%{y}\", \"legendgroup\": \"AGE GROUP=18-64 years\", \"marker\": {\"color\": \"#00cc96\"}, \"name\": \"AGE GROUP=18-64 years\", \"offsetgroup\": \"AGE GROUP=18-64 years\", \"orientation\": \"v\", \"showlegend\": true, \"textposition\": \"auto\", \"type\": \"bar\", \"x\": [\"18-64 years\", \"18-64 years\", \"18-64 years\", \"18-64 years\", \"18-64 years\", \"18-64 years\", \"18-64 years\", \"18-64 years\", \"18-64 years\", \"18-64 years\", \"18-64 years\", \"18-64 years\", \"18-64 years\", \"18-64 years\", \"18-64 years\", \"18-64 years\", \"18-64 years\", \"18-64 years\", \"18-64 years\", \"18-64 years\", \"18-64 years\", \"18-64 years\", \"18-64 years\", \"18-64 years\", \"18-64 years\", \"18-64 years\", \"18-64 years\", \"18-64 years\", \"18-64 years\", \"18-64 years\", \"18-64 years\", \"18-64 years\", \"18-64 years\", \"18-64 years\", \"18-64 years\", \"18-64 years\", \"18-64 years\", \"18-64 years\", \"18-64 years\", \"18-64 years\", \"18-64 years\", \"18-64 years\", \"18-64 years\", \"18-64 years\", \"18-64 years\", \"18-64 years\", \"18-64 years\", \"18-64 years\", \"18-64 years\", \"18-64 years\", \"18-64 years\", \"18-64 years\", \"18-64 years\", \"18-64 years\", \"18-64 years\", \"18-64 years\", \"18-64 years\", \"18-64 years\", \"18-64 years\", \"18-64 years\", \"18-64 years\", \"18-64 years\", \"18-64 years\", \"18-64 years\", \"18-64 years\", \"18-64 years\", \"18-64 years\", \"18-64 years\", \"18-64 years\", \"18-64 years\", \"18-64 years\", \"18-64 years\", \"18-64 years\", \"18-64 years\", \"18-64 years\", \"18-64 years\", \"18-64 years\", \"18-64 years\", \"18-64 years\", \"18-64 years\", \"18-64 years\", \"18-64 years\", \"18-64 years\", \"18-64 years\", \"18-64 years\", \"18-64 years\", \"18-64 years\", \"18-64 years\", \"18-64 years\", \"18-64 years\", \"18-64 years\", \"18-64 years\", \"18-64 years\", \"18-64 years\", \"18-64 years\", \"18-64 years\", \"18-64 years\", \"18-64 years\", \"18-64 years\", \"18-64 years\", \"18-64 years\", \"18-64 years\", \"18-64 years\", \"18-64 years\", \"18-64 years\", \"18-64 years\", \"18-64 years\", \"18-64 years\", \"18-64 years\", \"18-64 years\", \"18-64 years\", \"18-64 years\", \"18-64 years\", \"18-64 years\", \"18-64 years\", \"18-64 years\", \"18-64 years\", \"18-64 years\", \"18-64 years\", \"18-64 years\", \"18-64 years\", \"18-64 years\", \"18-64 years\", \"18-64 years\", \"18-64 years\", \"18-64 years\", \"18-64 years\", \"18-64 years\", \"18-64 years\", \"18-64 years\", \"18-64 years\", \"18-64 years\", \"18-64 years\", \"18-64 years\", \"18-64 years\", \"18-64 years\", \"18-64 years\", \"18-64 years\", \"18-64 years\", \"18-64 years\", \"18-64 years\", \"18-64 years\", \"18-64 years\", \"18-64 years\", \"18-64 years\", \"18-64 years\", \"18-64 years\", \"18-64 years\", \"18-64 years\", \"18-64 years\", \"18-64 years\", \"18-64 years\", \"18-64 years\", \"18-64 years\", \"18-64 years\", \"18-64 years\", \"18-64 years\", \"18-64 years\", \"18-64 years\", \"18-64 years\", \"18-64 years\", \"18-64 years\", \"18-64 years\", \"18-64 years\", \"18-64 years\", \"18-64 years\", \"18-64 years\", \"18-64 years\", \"18-64 years\", \"18-64 years\", \"18-64 years\", \"18-64 years\", \"18-64 years\", \"18-64 years\", \"18-64 years\", \"18-64 years\", \"18-64 years\", \"18-64 years\", \"18-64 years\", \"18-64 years\"], \"xaxis\": \"x\", \"y\": [10939, 492, 0, 13, 57, 17, 379, 34, 360, 47, 34, 321, 49, 36, 21, 3635, 30, 28, 15, 77, 0, 84, 15, 32, 585, 54, 605, 467, 792, 725, 237, 169, 44, 117, 52, 420, 34, 41, 0, 87, 82, 172, 19, 15, 119, 19, 122, 35, 13, 7068, 320, 0, 35, 225, 32, 199, 30, 21, 0, 142, 27, 16, 20, 2451, 15, 20, 0, 57, 0, 79, 12, 342, 32, 378, 321, 511, 493, 137, 110, 40, 68, 45, 283, 34, 31, 82, 49, 93, 14, 74, 12, 84, 25, 6960, 284, 0, 47, 0, 237, 49, 183, 18, 20, 160, 39, 27, 16, 2151, 25, 29, 0, 12, 68, 73, 15, 395, 43, 0, 361, 388, 425, 468, 146, 140, 34, 85, 33, 278, 28, 17, 0, 60, 56, 96, 78, 111, 29, 6705, 250, 0, 60, 0, 218, 38, 218, 31, 39, 116, 16, 18, 2055, 22, 38, 18, 67, 82, 12, 382, 34, 299, 412, 12, 404, 426, 127, 139, 32, 72, 28, 237, 41, 24, 72, 58, 119, 13, 53, 91, 19, 12], \"yaxis\": \"y\"}, {\"alignmentgroup\": \"True\", \"hoverlabel\": {\"namelength\": 0}, \"hovertemplate\": \"AGE GROUP=%{x}<br>NUMBER OF HOSPITALIZATIONS=%{y}\", \"legendgroup\": \"AGE GROUP=65+ years\", \"marker\": {\"color\": \"#ab63fa\"}, \"name\": \"AGE GROUP=65+ years\", \"offsetgroup\": \"AGE GROUP=65+ years\", \"orientation\": \"v\", \"showlegend\": true, \"textposition\": \"auto\", \"type\": \"bar\", \"x\": [\"65+ years\", \"65+ years\", \"65+ years\", \"65+ years\", \"65+ years\", \"65+ years\", \"65+ years\", \"65+ years\", \"65+ years\", \"65+ years\", \"65+ years\", \"65+ years\", \"65+ years\", \"65+ years\", \"65+ years\", \"65+ years\", \"65+ years\", \"65+ years\", \"65+ years\", \"65+ years\", \"65+ years\", \"65+ years\", \"65+ years\", \"65+ years\", \"65+ years\", \"65+ years\", \"65+ years\", \"65+ years\", \"65+ years\", \"65+ years\", \"65+ years\", \"65+ years\", \"65+ years\", \"65+ years\", \"65+ years\", \"65+ years\", \"65+ years\", \"65+ years\", \"65+ years\", \"65+ years\", \"65+ years\", \"65+ years\", \"65+ years\", \"65+ years\", \"65+ years\", \"65+ years\", \"65+ years\", \"65+ years\", \"65+ years\", \"65+ years\", \"65+ years\", \"65+ years\", \"65+ years\", \"65+ years\", \"65+ years\", \"65+ years\", \"65+ years\", \"65+ years\", \"65+ years\", \"65+ years\", \"65+ years\", \"65+ years\", \"65+ years\", \"65+ years\", \"65+ years\", \"65+ years\", \"65+ years\", \"65+ years\", \"65+ years\", \"65+ years\", \"65+ years\", \"65+ years\", \"65+ years\", \"65+ years\", \"65+ years\", \"65+ years\", \"65+ years\", \"65+ years\", \"65+ years\", \"65+ years\", \"65+ years\", \"65+ years\", \"65+ years\", \"65+ years\", \"65+ years\", \"65+ years\", \"65+ years\", \"65+ years\", \"65+ years\", \"65+ years\", \"65+ years\", \"65+ years\", \"65+ years\", \"65+ years\", \"65+ years\", \"65+ years\", \"65+ years\", \"65+ years\", \"65+ years\", \"65+ years\", \"65+ years\", \"65+ years\", \"65+ years\", \"65+ years\", \"65+ years\", \"65+ years\", \"65+ years\", \"65+ years\", \"65+ years\", \"65+ years\", \"65+ years\", \"65+ years\", \"65+ years\", \"65+ years\", \"65+ years\", \"65+ years\", \"65+ years\", \"65+ years\", \"65+ years\", \"65+ years\", \"65+ years\", \"65+ years\", \"65+ years\", \"65+ years\", \"65+ years\", \"65+ years\", \"65+ years\", \"65+ years\", \"65+ years\", \"65+ years\", \"65+ years\", \"65+ years\", \"65+ years\", \"65+ years\", \"65+ years\", \"65+ years\", \"65+ years\", \"65+ years\", \"65+ years\", \"65+ years\", \"65+ years\", \"65+ years\", \"65+ years\", \"65+ years\", \"65+ years\", \"65+ years\", \"65+ years\", \"65+ years\", \"65+ years\", \"65+ years\", \"65+ years\"], \"xaxis\": \"x\", \"y\": [6938, 332, 0, 32, 225, 15, 209, 14, 24, 0, 119, 41, 2270, 29, 26, 65, 0, 73, 29, 14, 566, 51, 269, 202, 356, 414, 167, 103, 27, 162, 49, 370, 40, 24, 0, 78, 84, 101, 14, 74, 12, 134, 26, 14, 2504, 138, 0, 0, 113, 0, 12, 70, 14, 0, 32, 0, 884, 17, 0, 0, 22, 188, 97, 66, 105, 144, 65, 36, 67, 16, 152, 14, 0, 30, 23, 22, 0, 19, 40, 2669, 168, 0, 0, 106, 0, 60, 0, 39, 886, 17, 0, 0, 19, 12, 174, 18, 94, 113, 105, 172, 78, 47, 14, 58, 23, 137, 13, 0, 25, 35, 32, 20, 70, 16, 2608, 131, 0, 0, 88, 0, 73, 13, 28, 0, 896, 18, 15, 0, 0, 16, 203, 13, 85, 110, 97, 155, 73, 47, 13, 48, 12, 147, 20, 0, 39, 36, 32, 0, 15, 64, 17], \"yaxis\": \"y\"}],\n",
              "                        {\"barmode\": \"relative\", \"legend\": {\"tracegroupgap\": 0}, \"margin\": {\"t\": 60}, \"template\": {\"data\": {\"bar\": [{\"error_x\": {\"color\": \"#f2f5fa\"}, \"error_y\": {\"color\": \"#f2f5fa\"}, \"marker\": {\"line\": {\"color\": \"rgb(17,17,17)\", \"width\": 0.5}}, \"type\": \"bar\"}], \"barpolar\": [{\"marker\": {\"line\": {\"color\": \"rgb(17,17,17)\", \"width\": 0.5}}, \"type\": \"barpolar\"}], \"carpet\": [{\"aaxis\": {\"endlinecolor\": \"#A2B1C6\", \"gridcolor\": \"#506784\", \"linecolor\": \"#506784\", \"minorgridcolor\": \"#506784\", \"startlinecolor\": \"#A2B1C6\"}, \"baxis\": {\"endlinecolor\": \"#A2B1C6\", \"gridcolor\": \"#506784\", \"linecolor\": \"#506784\", \"minorgridcolor\": \"#506784\", \"startlinecolor\": \"#A2B1C6\"}, \"type\": \"carpet\"}], \"choropleth\": [{\"colorbar\": {\"outlinewidth\": 0, \"ticks\": \"\"}, \"type\": \"choropleth\"}], \"contour\": [{\"colorbar\": {\"outlinewidth\": 0, \"ticks\": \"\"}, \"colorscale\": [[0.0, \"#0d0887\"], [0.1111111111111111, \"#46039f\"], [0.2222222222222222, \"#7201a8\"], [0.3333333333333333, \"#9c179e\"], [0.4444444444444444, \"#bd3786\"], [0.5555555555555556, \"#d8576b\"], [0.6666666666666666, \"#ed7953\"], [0.7777777777777778, \"#fb9f3a\"], [0.8888888888888888, \"#fdca26\"], [1.0, \"#f0f921\"]], \"type\": \"contour\"}], \"contourcarpet\": [{\"colorbar\": {\"outlinewidth\": 0, \"ticks\": \"\"}, \"type\": \"contourcarpet\"}], \"heatmap\": [{\"colorbar\": {\"outlinewidth\": 0, \"ticks\": \"\"}, \"colorscale\": [[0.0, \"#0d0887\"], [0.1111111111111111, \"#46039f\"], [0.2222222222222222, \"#7201a8\"], [0.3333333333333333, \"#9c179e\"], [0.4444444444444444, \"#bd3786\"], [0.5555555555555556, \"#d8576b\"], [0.6666666666666666, \"#ed7953\"], [0.7777777777777778, \"#fb9f3a\"], [0.8888888888888888, \"#fdca26\"], [1.0, \"#f0f921\"]], \"type\": \"heatmap\"}], \"heatmapgl\": [{\"colorbar\": {\"outlinewidth\": 0, \"ticks\": \"\"}, \"colorscale\": [[0.0, \"#0d0887\"], [0.1111111111111111, \"#46039f\"], [0.2222222222222222, \"#7201a8\"], [0.3333333333333333, \"#9c179e\"], [0.4444444444444444, \"#bd3786\"], [0.5555555555555556, \"#d8576b\"], [0.6666666666666666, \"#ed7953\"], [0.7777777777777778, \"#fb9f3a\"], [0.8888888888888888, \"#fdca26\"], [1.0, \"#f0f921\"]], \"type\": \"heatmapgl\"}], \"histogram\": [{\"marker\": {\"colorbar\": {\"outlinewidth\": 0, \"ticks\": \"\"}}, \"type\": \"histogram\"}], \"histogram2d\": [{\"colorbar\": {\"outlinewidth\": 0, \"ticks\": \"\"}, \"colorscale\": [[0.0, \"#0d0887\"], [0.1111111111111111, \"#46039f\"], [0.2222222222222222, \"#7201a8\"], [0.3333333333333333, \"#9c179e\"], [0.4444444444444444, \"#bd3786\"], [0.5555555555555556, \"#d8576b\"], [0.6666666666666666, \"#ed7953\"], [0.7777777777777778, \"#fb9f3a\"], [0.8888888888888888, \"#fdca26\"], [1.0, \"#f0f921\"]], \"type\": \"histogram2d\"}], \"histogram2dcontour\": [{\"colorbar\": {\"outlinewidth\": 0, \"ticks\": \"\"}, \"colorscale\": [[0.0, \"#0d0887\"], [0.1111111111111111, \"#46039f\"], [0.2222222222222222, \"#7201a8\"], [0.3333333333333333, \"#9c179e\"], [0.4444444444444444, \"#bd3786\"], [0.5555555555555556, \"#d8576b\"], [0.6666666666666666, \"#ed7953\"], [0.7777777777777778, \"#fb9f3a\"], [0.8888888888888888, \"#fdca26\"], [1.0, \"#f0f921\"]], \"type\": \"histogram2dcontour\"}], \"mesh3d\": [{\"colorbar\": {\"outlinewidth\": 0, \"ticks\": \"\"}, \"type\": \"mesh3d\"}], \"parcoords\": [{\"line\": {\"colorbar\": {\"outlinewidth\": 0, \"ticks\": \"\"}}, \"type\": \"parcoords\"}], \"pie\": [{\"automargin\": true, \"type\": \"pie\"}], \"scatter\": [{\"marker\": {\"line\": {\"color\": \"#283442\"}}, \"type\": \"scatter\"}], \"scatter3d\": [{\"line\": {\"colorbar\": {\"outlinewidth\": 0, \"ticks\": \"\"}}, \"marker\": {\"colorbar\": {\"outlinewidth\": 0, \"ticks\": \"\"}}, \"type\": \"scatter3d\"}], \"scattercarpet\": [{\"marker\": {\"colorbar\": {\"outlinewidth\": 0, \"ticks\": \"\"}}, \"type\": \"scattercarpet\"}], \"scattergeo\": [{\"marker\": {\"colorbar\": {\"outlinewidth\": 0, \"ticks\": \"\"}}, \"type\": \"scattergeo\"}], \"scattergl\": [{\"marker\": {\"line\": {\"color\": \"#283442\"}}, \"type\": \"scattergl\"}], \"scattermapbox\": [{\"marker\": {\"colorbar\": {\"outlinewidth\": 0, \"ticks\": \"\"}}, \"type\": \"scattermapbox\"}], \"scatterpolar\": [{\"marker\": {\"colorbar\": {\"outlinewidth\": 0, \"ticks\": \"\"}}, \"type\": \"scatterpolar\"}], \"scatterpolargl\": [{\"marker\": {\"colorbar\": {\"outlinewidth\": 0, \"ticks\": \"\"}}, \"type\": \"scatterpolargl\"}], \"scatterternary\": [{\"marker\": {\"colorbar\": {\"outlinewidth\": 0, \"ticks\": \"\"}}, \"type\": \"scatterternary\"}], \"surface\": [{\"colorbar\": {\"outlinewidth\": 0, \"ticks\": \"\"}, \"colorscale\": [[0.0, \"#0d0887\"], [0.1111111111111111, \"#46039f\"], [0.2222222222222222, \"#7201a8\"], [0.3333333333333333, \"#9c179e\"], [0.4444444444444444, \"#bd3786\"], [0.5555555555555556, \"#d8576b\"], [0.6666666666666666, \"#ed7953\"], [0.7777777777777778, \"#fb9f3a\"], [0.8888888888888888, \"#fdca26\"], [1.0, \"#f0f921\"]], \"type\": \"surface\"}], \"table\": [{\"cells\": {\"fill\": {\"color\": \"#506784\"}, \"line\": {\"color\": \"rgb(17,17,17)\"}}, \"header\": {\"fill\": {\"color\": \"#2a3f5f\"}, \"line\": {\"color\": \"rgb(17,17,17)\"}}, \"type\": \"table\"}]}, \"layout\": {\"annotationdefaults\": {\"arrowcolor\": \"#f2f5fa\", \"arrowhead\": 0, \"arrowwidth\": 1}, \"coloraxis\": {\"colorbar\": {\"outlinewidth\": 0, \"ticks\": \"\"}}, \"colorscale\": {\"diverging\": [[0, \"#8e0152\"], [0.1, \"#c51b7d\"], [0.2, \"#de77ae\"], [0.3, \"#f1b6da\"], [0.4, \"#fde0ef\"], [0.5, \"#f7f7f7\"], [0.6, \"#e6f5d0\"], [0.7, \"#b8e186\"], [0.8, \"#7fbc41\"], [0.9, \"#4d9221\"], [1, \"#276419\"]], \"sequential\": [[0.0, \"#0d0887\"], [0.1111111111111111, \"#46039f\"], [0.2222222222222222, \"#7201a8\"], [0.3333333333333333, \"#9c179e\"], [0.4444444444444444, \"#bd3786\"], [0.5555555555555556, \"#d8576b\"], [0.6666666666666666, \"#ed7953\"], [0.7777777777777778, \"#fb9f3a\"], [0.8888888888888888, \"#fdca26\"], [1.0, \"#f0f921\"]], \"sequentialminus\": [[0.0, \"#0d0887\"], [0.1111111111111111, \"#46039f\"], [0.2222222222222222, \"#7201a8\"], [0.3333333333333333, \"#9c179e\"], [0.4444444444444444, \"#bd3786\"], [0.5555555555555556, \"#d8576b\"], [0.6666666666666666, \"#ed7953\"], [0.7777777777777778, \"#fb9f3a\"], [0.8888888888888888, \"#fdca26\"], [1.0, \"#f0f921\"]]}, \"colorway\": [\"#636efa\", \"#EF553B\", \"#00cc96\", \"#ab63fa\", \"#FFA15A\", \"#19d3f3\", \"#FF6692\", \"#B6E880\", \"#FF97FF\", \"#FECB52\"], \"font\": {\"color\": \"#f2f5fa\"}, \"geo\": {\"bgcolor\": \"rgb(17,17,17)\", \"lakecolor\": \"rgb(17,17,17)\", \"landcolor\": \"rgb(17,17,17)\", \"showlakes\": true, \"showland\": true, \"subunitcolor\": \"#506784\"}, \"hoverlabel\": {\"align\": \"left\"}, \"hovermode\": \"closest\", \"mapbox\": {\"style\": \"dark\"}, \"paper_bgcolor\": \"rgb(17,17,17)\", \"plot_bgcolor\": \"rgb(17,17,17)\", \"polar\": {\"angularaxis\": {\"gridcolor\": \"#506784\", \"linecolor\": \"#506784\", \"ticks\": \"\"}, \"bgcolor\": \"rgb(17,17,17)\", \"radialaxis\": {\"gridcolor\": \"#506784\", \"linecolor\": \"#506784\", \"ticks\": \"\"}}, \"scene\": {\"xaxis\": {\"backgroundcolor\": \"rgb(17,17,17)\", \"gridcolor\": \"#506784\", \"gridwidth\": 2, \"linecolor\": \"#506784\", \"showbackground\": true, \"ticks\": \"\", \"zerolinecolor\": \"#C8D4E3\"}, \"yaxis\": {\"backgroundcolor\": \"rgb(17,17,17)\", \"gridcolor\": \"#506784\", \"gridwidth\": 2, \"linecolor\": \"#506784\", \"showbackground\": true, \"ticks\": \"\", \"zerolinecolor\": \"#C8D4E3\"}, \"zaxis\": {\"backgroundcolor\": \"rgb(17,17,17)\", \"gridcolor\": \"#506784\", \"gridwidth\": 2, \"linecolor\": \"#506784\", \"showbackground\": true, \"ticks\": \"\", \"zerolinecolor\": \"#C8D4E3\"}}, \"shapedefaults\": {\"line\": {\"color\": \"#f2f5fa\"}}, \"sliderdefaults\": {\"bgcolor\": \"#C8D4E3\", \"bordercolor\": \"rgb(17,17,17)\", \"borderwidth\": 1, \"tickwidth\": 0}, \"ternary\": {\"aaxis\": {\"gridcolor\": \"#506784\", \"linecolor\": \"#506784\", \"ticks\": \"\"}, \"baxis\": {\"gridcolor\": \"#506784\", \"linecolor\": \"#506784\", \"ticks\": \"\"}, \"bgcolor\": \"rgb(17,17,17)\", \"caxis\": {\"gridcolor\": \"#506784\", \"linecolor\": \"#506784\", \"ticks\": \"\"}}, \"title\": {\"x\": 0.05}, \"updatemenudefaults\": {\"bgcolor\": \"#506784\", \"borderwidth\": 0}, \"xaxis\": {\"automargin\": true, \"gridcolor\": \"#283442\", \"linecolor\": \"#506784\", \"ticks\": \"\", \"title\": {\"standoff\": 15}, \"zerolinecolor\": \"#283442\", \"zerolinewidth\": 2}, \"yaxis\": {\"automargin\": true, \"gridcolor\": \"#283442\", \"linecolor\": \"#506784\", \"ticks\": \"\", \"title\": {\"standoff\": 15}, \"zerolinecolor\": \"#283442\", \"zerolinewidth\": 2}}}, \"xaxis\": {\"anchor\": \"y\", \"categoryarray\": [\"0-4 years\", \"5-17 years\", \"18-64 years\", \"65+ years\"], \"categoryorder\": \"array\", \"domain\": [0.0, 1.0], \"title\": {\"text\": \"AGE GROUP\"}}, \"yaxis\": {\"anchor\": \"x\", \"domain\": [0.0, 1.0], \"title\": {\"text\": \"NUMBER OF HOSPITALIZATIONS\"}}},\n",
              "                        {\"responsive\": true}\n",
              "                    ).then(function(){\n",
              "                            \n",
              "var gd = document.getElementById('43a92cb8-2d10-4f44-9136-6b5068cfdde6');\n",
              "var x = new MutationObserver(function (mutations, observer) {{\n",
              "        var display = window.getComputedStyle(gd).display;\n",
              "        if (!display || display === 'none') {{\n",
              "            console.log([gd, 'removed!']);\n",
              "            Plotly.purge(gd);\n",
              "            observer.disconnect();\n",
              "        }}\n",
              "}});\n",
              "\n",
              "// Listen for the removal of the full notebook cells\n",
              "var notebookContainer = gd.closest('#notebook-container');\n",
              "if (notebookContainer) {{\n",
              "    x.observe(notebookContainer, {childList: true});\n",
              "}}\n",
              "\n",
              "// Listen for the clearing of the current output cell\n",
              "var outputEl = gd.closest('.output');\n",
              "if (outputEl) {{\n",
              "    x.observe(outputEl, {childList: true});\n",
              "}}\n",
              "\n",
              "                        })\n",
              "                };\n",
              "                \n",
              "            </script>\n",
              "        </div>\n",
              "</body>\n",
              "</html>"
            ]
          },
          "metadata": {
            "tags": []
          }
        }
      ]
    },
    {
      "cell_type": "code",
      "metadata": {
        "colab": {
          "base_uri": "https://localhost:8080/",
          "height": 206
        },
        "id": "46X5nguU83HT",
        "outputId": "e7af158b-4cb4-426a-beb9-007d094f4fa3"
      },
      "source": [
        "df2 = df[df['STRATA'] == 'Race/ethnicity']\n",
        "df2 = df2.drop(columns=['YEAR', 'AGE-ADJUSTED HOSPITALIZATION RATE'])\n",
        "df3 = df2.groupby('STRATA NAME', as_index=False).sum()\n",
        "df3.rename(columns={'STRATA NAME':'Race/ethnicity'}, inplace=True)\n",
        "df3"
      ],
      "execution_count": null,
      "outputs": [
        {
          "output_type": "execute_result",
          "data": {
            "text/html": [
              "<div>\n",
              "<style scoped>\n",
              "    .dataframe tbody tr th:only-of-type {\n",
              "        vertical-align: middle;\n",
              "    }\n",
              "\n",
              "    .dataframe tbody tr th {\n",
              "        vertical-align: top;\n",
              "    }\n",
              "\n",
              "    .dataframe thead th {\n",
              "        text-align: right;\n",
              "    }\n",
              "</style>\n",
              "<table border=\"1\" class=\"dataframe\">\n",
              "  <thead>\n",
              "    <tr style=\"text-align: right;\">\n",
              "      <th></th>\n",
              "      <th>Race/ethnicity</th>\n",
              "      <th>NUMBER OF HOSPITALIZATIONS</th>\n",
              "    </tr>\n",
              "  </thead>\n",
              "  <tbody>\n",
              "    <tr>\n",
              "      <th>0</th>\n",
              "      <td>AI/AN</td>\n",
              "      <td>222</td>\n",
              "    </tr>\n",
              "    <tr>\n",
              "      <th>1</th>\n",
              "      <td>Asian/PI</td>\n",
              "      <td>14510</td>\n",
              "    </tr>\n",
              "    <tr>\n",
              "      <th>2</th>\n",
              "      <td>Black</td>\n",
              "      <td>29127</td>\n",
              "    </tr>\n",
              "    <tr>\n",
              "      <th>3</th>\n",
              "      <td>Hispanic</td>\n",
              "      <td>59276</td>\n",
              "    </tr>\n",
              "    <tr>\n",
              "      <th>4</th>\n",
              "      <td>White</td>\n",
              "      <td>47603</td>\n",
              "    </tr>\n",
              "  </tbody>\n",
              "</table>\n",
              "</div>"
            ],
            "text/plain": [
              "  Race/ethnicity  NUMBER OF HOSPITALIZATIONS\n",
              "0          AI/AN                         222\n",
              "1       Asian/PI                       14510\n",
              "2          Black                       29127\n",
              "3       Hispanic                       59276\n",
              "4          White                       47603"
            ]
          },
          "metadata": {
            "tags": []
          },
          "execution_count": 67
        }
      ]
    },
    {
      "cell_type": "code",
      "metadata": {
        "colab": {
          "base_uri": "https://localhost:8080/",
          "height": 300
        },
        "id": "uWxlRfNaEIkp",
        "outputId": "6ea4f5fd-9635-4ae3-8c06-c199264687d1"
      },
      "source": [
        "df3[['Race/ethnicity','NUMBER OF HOSPITALIZATIONS']].describe()"
      ],
      "execution_count": null,
      "outputs": [
        {
          "output_type": "execute_result",
          "data": {
            "text/html": [
              "<div>\n",
              "<style scoped>\n",
              "    .dataframe tbody tr th:only-of-type {\n",
              "        vertical-align: middle;\n",
              "    }\n",
              "\n",
              "    .dataframe tbody tr th {\n",
              "        vertical-align: top;\n",
              "    }\n",
              "\n",
              "    .dataframe thead th {\n",
              "        text-align: right;\n",
              "    }\n",
              "</style>\n",
              "<table border=\"1\" class=\"dataframe\">\n",
              "  <thead>\n",
              "    <tr style=\"text-align: right;\">\n",
              "      <th></th>\n",
              "      <th>NUMBER OF HOSPITALIZATIONS</th>\n",
              "    </tr>\n",
              "  </thead>\n",
              "  <tbody>\n",
              "    <tr>\n",
              "      <th>count</th>\n",
              "      <td>5.000000</td>\n",
              "    </tr>\n",
              "    <tr>\n",
              "      <th>mean</th>\n",
              "      <td>30147.600000</td>\n",
              "    </tr>\n",
              "    <tr>\n",
              "      <th>std</th>\n",
              "      <td>23949.281666</td>\n",
              "    </tr>\n",
              "    <tr>\n",
              "      <th>min</th>\n",
              "      <td>222.000000</td>\n",
              "    </tr>\n",
              "    <tr>\n",
              "      <th>25%</th>\n",
              "      <td>14510.000000</td>\n",
              "    </tr>\n",
              "    <tr>\n",
              "      <th>50%</th>\n",
              "      <td>29127.000000</td>\n",
              "    </tr>\n",
              "    <tr>\n",
              "      <th>75%</th>\n",
              "      <td>47603.000000</td>\n",
              "    </tr>\n",
              "    <tr>\n",
              "      <th>max</th>\n",
              "      <td>59276.000000</td>\n",
              "    </tr>\n",
              "  </tbody>\n",
              "</table>\n",
              "</div>"
            ],
            "text/plain": [
              "       NUMBER OF HOSPITALIZATIONS\n",
              "count                    5.000000\n",
              "mean                 30147.600000\n",
              "std                  23949.281666\n",
              "min                    222.000000\n",
              "25%                  14510.000000\n",
              "50%                  29127.000000\n",
              "75%                  47603.000000\n",
              "max                  59276.000000"
            ]
          },
          "metadata": {
            "tags": []
          },
          "execution_count": 79
        }
      ]
    },
    {
      "cell_type": "code",
      "metadata": {
        "colab": {
          "base_uri": "https://localhost:8080/"
        },
        "id": "GZFq_fSpDxHR",
        "outputId": "1c41ffaf-124e-43f2-c8b8-23dbde4d0b7f"
      },
      "source": [
        "df3['NUMBER OF HOSPITALIZATIONS'].mean(numeric_only=None)"
      ],
      "execution_count": null,
      "outputs": [
        {
          "output_type": "execute_result",
          "data": {
            "text/plain": [
              "30147.6"
            ]
          },
          "metadata": {
            "tags": []
          },
          "execution_count": 75
        }
      ]
    },
    {
      "cell_type": "code",
      "metadata": {
        "colab": {
          "base_uri": "https://localhost:8080/"
        },
        "id": "0wxVMDbiD2j4",
        "outputId": "586001b9-4785-411b-e943-e4177ef61925"
      },
      "source": [
        "df3['NUMBER OF HOSPITALIZATIONS'].median(numeric_only=None)"
      ],
      "execution_count": null,
      "outputs": [
        {
          "output_type": "execute_result",
          "data": {
            "text/plain": [
              "29127.0"
            ]
          },
          "metadata": {
            "tags": []
          },
          "execution_count": 76
        }
      ]
    },
    {
      "cell_type": "code",
      "metadata": {
        "colab": {
          "base_uri": "https://localhost:8080/"
        },
        "id": "3p9YO8ezD4ln",
        "outputId": "3bca0cbf-d741-4428-8cf8-06908196614c"
      },
      "source": [
        "df3['NUMBER OF HOSPITALIZATIONS'].mode(dropna=False)"
      ],
      "execution_count": null,
      "outputs": [
        {
          "output_type": "execute_result",
          "data": {
            "text/plain": [
              "0      222\n",
              "1    14510\n",
              "2    29127\n",
              "3    47603\n",
              "4    59276\n",
              "dtype: int64"
            ]
          },
          "metadata": {
            "tags": []
          },
          "execution_count": 77
        }
      ]
    },
    {
      "cell_type": "markdown",
      "metadata": {
        "id": "WCnezq6yN1b3"
      },
      "source": [
        "Asthma hospitalizations in California by race/ethnicity, 2015 -2018"
      ]
    },
    {
      "cell_type": "code",
      "metadata": {
        "colab": {
          "base_uri": "https://localhost:8080/",
          "height": 542
        },
        "id": "-JaFErM3-0pS",
        "outputId": "e784a784-6887-4ee5-92a3-106e4c876c2b"
      },
      "source": [
        "fig = px.bar(df3, x='Race/ethnicity', y='NUMBER OF HOSPITALIZATIONS', template=\"plotly_white\", color='Race/ethnicity')\n",
        "fig.show()"
      ],
      "execution_count": null,
      "outputs": [
        {
          "output_type": "display_data",
          "data": {
            "text/html": [
              "<html>\n",
              "<head><meta charset=\"utf-8\" /></head>\n",
              "<body>\n",
              "    <div>\n",
              "            <script src=\"https://cdnjs.cloudflare.com/ajax/libs/mathjax/2.7.5/MathJax.js?config=TeX-AMS-MML_SVG\"></script><script type=\"text/javascript\">if (window.MathJax) {MathJax.Hub.Config({SVG: {font: \"STIX-Web\"}});}</script>\n",
              "                <script type=\"text/javascript\">window.PlotlyConfig = {MathJaxConfig: 'local'};</script>\n",
              "        <script src=\"https://cdn.plot.ly/plotly-latest.min.js\"></script>    \n",
              "            <div id=\"5be53267-629e-40a8-beef-c0328f1e7fa5\" class=\"plotly-graph-div\" style=\"height:525px; width:100%;\"></div>\n",
              "            <script type=\"text/javascript\">\n",
              "                \n",
              "                    window.PLOTLYENV=window.PLOTLYENV || {};\n",
              "                    \n",
              "                if (document.getElementById(\"5be53267-629e-40a8-beef-c0328f1e7fa5\")) {\n",
              "                    Plotly.newPlot(\n",
              "                        '5be53267-629e-40a8-beef-c0328f1e7fa5',\n",
              "                        [{\"alignmentgroup\": \"True\", \"hoverlabel\": {\"namelength\": 0}, \"hovertemplate\": \"Race/ethnicity=%{x}<br>NUMBER OF HOSPITALIZATIONS=%{y}\", \"legendgroup\": \"Race/ethnicity=AI/AN\", \"marker\": {\"color\": \"#636efa\"}, \"name\": \"Race/ethnicity=AI/AN\", \"offsetgroup\": \"Race/ethnicity=AI/AN\", \"orientation\": \"v\", \"showlegend\": true, \"textposition\": \"auto\", \"type\": \"bar\", \"x\": [\"AI/AN\"], \"xaxis\": \"x\", \"y\": [222], \"yaxis\": \"y\"}, {\"alignmentgroup\": \"True\", \"hoverlabel\": {\"namelength\": 0}, \"hovertemplate\": \"Race/ethnicity=%{x}<br>NUMBER OF HOSPITALIZATIONS=%{y}\", \"legendgroup\": \"Race/ethnicity=Asian/PI\", \"marker\": {\"color\": \"#EF553B\"}, \"name\": \"Race/ethnicity=Asian/PI\", \"offsetgroup\": \"Race/ethnicity=Asian/PI\", \"orientation\": \"v\", \"showlegend\": true, \"textposition\": \"auto\", \"type\": \"bar\", \"x\": [\"Asian/PI\"], \"xaxis\": \"x\", \"y\": [14510], \"yaxis\": \"y\"}, {\"alignmentgroup\": \"True\", \"hoverlabel\": {\"namelength\": 0}, \"hovertemplate\": \"Race/ethnicity=%{x}<br>NUMBER OF HOSPITALIZATIONS=%{y}\", \"legendgroup\": \"Race/ethnicity=Black\", \"marker\": {\"color\": \"#00cc96\"}, \"name\": \"Race/ethnicity=Black\", \"offsetgroup\": \"Race/ethnicity=Black\", \"orientation\": \"v\", \"showlegend\": true, \"textposition\": \"auto\", \"type\": \"bar\", \"x\": [\"Black\"], \"xaxis\": \"x\", \"y\": [29127], \"yaxis\": \"y\"}, {\"alignmentgroup\": \"True\", \"hoverlabel\": {\"namelength\": 0}, \"hovertemplate\": \"Race/ethnicity=%{x}<br>NUMBER OF HOSPITALIZATIONS=%{y}\", \"legendgroup\": \"Race/ethnicity=Hispanic\", \"marker\": {\"color\": \"#ab63fa\"}, \"name\": \"Race/ethnicity=Hispanic\", \"offsetgroup\": \"Race/ethnicity=Hispanic\", \"orientation\": \"v\", \"showlegend\": true, \"textposition\": \"auto\", \"type\": \"bar\", \"x\": [\"Hispanic\"], \"xaxis\": \"x\", \"y\": [59276], \"yaxis\": \"y\"}, {\"alignmentgroup\": \"True\", \"hoverlabel\": {\"namelength\": 0}, \"hovertemplate\": \"Race/ethnicity=%{x}<br>NUMBER OF HOSPITALIZATIONS=%{y}\", \"legendgroup\": \"Race/ethnicity=White\", \"marker\": {\"color\": \"#FFA15A\"}, \"name\": \"Race/ethnicity=White\", \"offsetgroup\": \"Race/ethnicity=White\", \"orientation\": \"v\", \"showlegend\": true, \"textposition\": \"auto\", \"type\": \"bar\", \"x\": [\"White\"], \"xaxis\": \"x\", \"y\": [47603], \"yaxis\": \"y\"}],\n",
              "                        {\"barmode\": \"relative\", \"legend\": {\"tracegroupgap\": 0}, \"margin\": {\"t\": 60}, \"template\": {\"data\": {\"bar\": [{\"error_x\": {\"color\": \"#2a3f5f\"}, \"error_y\": {\"color\": \"#2a3f5f\"}, \"marker\": {\"line\": {\"color\": \"white\", \"width\": 0.5}}, \"type\": \"bar\"}], \"barpolar\": [{\"marker\": {\"line\": {\"color\": \"white\", \"width\": 0.5}}, \"type\": \"barpolar\"}], \"carpet\": [{\"aaxis\": {\"endlinecolor\": \"#2a3f5f\", \"gridcolor\": \"#C8D4E3\", \"linecolor\": \"#C8D4E3\", \"minorgridcolor\": \"#C8D4E3\", \"startlinecolor\": \"#2a3f5f\"}, \"baxis\": {\"endlinecolor\": \"#2a3f5f\", \"gridcolor\": \"#C8D4E3\", \"linecolor\": \"#C8D4E3\", \"minorgridcolor\": \"#C8D4E3\", \"startlinecolor\": \"#2a3f5f\"}, \"type\": \"carpet\"}], \"choropleth\": [{\"colorbar\": {\"outlinewidth\": 0, \"ticks\": \"\"}, \"type\": \"choropleth\"}], \"contour\": [{\"colorbar\": {\"outlinewidth\": 0, \"ticks\": \"\"}, \"colorscale\": [[0.0, \"#0d0887\"], [0.1111111111111111, \"#46039f\"], [0.2222222222222222, \"#7201a8\"], [0.3333333333333333, \"#9c179e\"], [0.4444444444444444, \"#bd3786\"], [0.5555555555555556, \"#d8576b\"], [0.6666666666666666, \"#ed7953\"], [0.7777777777777778, \"#fb9f3a\"], [0.8888888888888888, \"#fdca26\"], [1.0, \"#f0f921\"]], \"type\": \"contour\"}], \"contourcarpet\": [{\"colorbar\": {\"outlinewidth\": 0, \"ticks\": \"\"}, \"type\": \"contourcarpet\"}], \"heatmap\": [{\"colorbar\": {\"outlinewidth\": 0, \"ticks\": \"\"}, \"colorscale\": [[0.0, \"#0d0887\"], [0.1111111111111111, \"#46039f\"], [0.2222222222222222, \"#7201a8\"], [0.3333333333333333, \"#9c179e\"], [0.4444444444444444, \"#bd3786\"], [0.5555555555555556, \"#d8576b\"], [0.6666666666666666, \"#ed7953\"], [0.7777777777777778, \"#fb9f3a\"], [0.8888888888888888, \"#fdca26\"], [1.0, \"#f0f921\"]], \"type\": \"heatmap\"}], \"heatmapgl\": [{\"colorbar\": {\"outlinewidth\": 0, \"ticks\": \"\"}, \"colorscale\": [[0.0, \"#0d0887\"], [0.1111111111111111, \"#46039f\"], [0.2222222222222222, \"#7201a8\"], [0.3333333333333333, \"#9c179e\"], [0.4444444444444444, \"#bd3786\"], [0.5555555555555556, \"#d8576b\"], [0.6666666666666666, \"#ed7953\"], [0.7777777777777778, \"#fb9f3a\"], [0.8888888888888888, \"#fdca26\"], [1.0, \"#f0f921\"]], \"type\": \"heatmapgl\"}], \"histogram\": [{\"marker\": {\"colorbar\": {\"outlinewidth\": 0, \"ticks\": \"\"}}, \"type\": \"histogram\"}], \"histogram2d\": [{\"colorbar\": {\"outlinewidth\": 0, \"ticks\": \"\"}, \"colorscale\": [[0.0, \"#0d0887\"], [0.1111111111111111, \"#46039f\"], [0.2222222222222222, \"#7201a8\"], [0.3333333333333333, \"#9c179e\"], [0.4444444444444444, \"#bd3786\"], [0.5555555555555556, \"#d8576b\"], [0.6666666666666666, \"#ed7953\"], [0.7777777777777778, \"#fb9f3a\"], [0.8888888888888888, \"#fdca26\"], [1.0, \"#f0f921\"]], \"type\": \"histogram2d\"}], \"histogram2dcontour\": [{\"colorbar\": {\"outlinewidth\": 0, \"ticks\": \"\"}, \"colorscale\": [[0.0, \"#0d0887\"], [0.1111111111111111, \"#46039f\"], [0.2222222222222222, \"#7201a8\"], [0.3333333333333333, \"#9c179e\"], [0.4444444444444444, \"#bd3786\"], [0.5555555555555556, \"#d8576b\"], [0.6666666666666666, \"#ed7953\"], [0.7777777777777778, \"#fb9f3a\"], [0.8888888888888888, \"#fdca26\"], [1.0, \"#f0f921\"]], \"type\": \"histogram2dcontour\"}], \"mesh3d\": [{\"colorbar\": {\"outlinewidth\": 0, \"ticks\": \"\"}, \"type\": \"mesh3d\"}], \"parcoords\": [{\"line\": {\"colorbar\": {\"outlinewidth\": 0, \"ticks\": \"\"}}, \"type\": \"parcoords\"}], \"pie\": [{\"automargin\": true, \"type\": \"pie\"}], \"scatter\": [{\"marker\": {\"colorbar\": {\"outlinewidth\": 0, \"ticks\": \"\"}}, \"type\": \"scatter\"}], \"scatter3d\": [{\"line\": {\"colorbar\": {\"outlinewidth\": 0, \"ticks\": \"\"}}, \"marker\": {\"colorbar\": {\"outlinewidth\": 0, \"ticks\": \"\"}}, \"type\": \"scatter3d\"}], \"scattercarpet\": [{\"marker\": {\"colorbar\": {\"outlinewidth\": 0, \"ticks\": \"\"}}, \"type\": \"scattercarpet\"}], \"scattergeo\": [{\"marker\": {\"colorbar\": {\"outlinewidth\": 0, \"ticks\": \"\"}}, \"type\": \"scattergeo\"}], \"scattergl\": [{\"marker\": {\"colorbar\": {\"outlinewidth\": 0, \"ticks\": \"\"}}, \"type\": \"scattergl\"}], \"scattermapbox\": [{\"marker\": {\"colorbar\": {\"outlinewidth\": 0, \"ticks\": \"\"}}, \"type\": \"scattermapbox\"}], \"scatterpolar\": [{\"marker\": {\"colorbar\": {\"outlinewidth\": 0, \"ticks\": \"\"}}, \"type\": \"scatterpolar\"}], \"scatterpolargl\": [{\"marker\": {\"colorbar\": {\"outlinewidth\": 0, \"ticks\": \"\"}}, \"type\": \"scatterpolargl\"}], \"scatterternary\": [{\"marker\": {\"colorbar\": {\"outlinewidth\": 0, \"ticks\": \"\"}}, \"type\": \"scatterternary\"}], \"surface\": [{\"colorbar\": {\"outlinewidth\": 0, \"ticks\": \"\"}, \"colorscale\": [[0.0, \"#0d0887\"], [0.1111111111111111, \"#46039f\"], [0.2222222222222222, \"#7201a8\"], [0.3333333333333333, \"#9c179e\"], [0.4444444444444444, \"#bd3786\"], [0.5555555555555556, \"#d8576b\"], [0.6666666666666666, \"#ed7953\"], [0.7777777777777778, \"#fb9f3a\"], [0.8888888888888888, \"#fdca26\"], [1.0, \"#f0f921\"]], \"type\": \"surface\"}], \"table\": [{\"cells\": {\"fill\": {\"color\": \"#EBF0F8\"}, \"line\": {\"color\": \"white\"}}, \"header\": {\"fill\": {\"color\": \"#C8D4E3\"}, \"line\": {\"color\": \"white\"}}, \"type\": \"table\"}]}, \"layout\": {\"annotationdefaults\": {\"arrowcolor\": \"#2a3f5f\", \"arrowhead\": 0, \"arrowwidth\": 1}, \"coloraxis\": {\"colorbar\": {\"outlinewidth\": 0, \"ticks\": \"\"}}, \"colorscale\": {\"diverging\": [[0, \"#8e0152\"], [0.1, \"#c51b7d\"], [0.2, \"#de77ae\"], [0.3, \"#f1b6da\"], [0.4, \"#fde0ef\"], [0.5, \"#f7f7f7\"], [0.6, \"#e6f5d0\"], [0.7, \"#b8e186\"], [0.8, \"#7fbc41\"], [0.9, \"#4d9221\"], [1, \"#276419\"]], \"sequential\": [[0.0, \"#0d0887\"], [0.1111111111111111, \"#46039f\"], [0.2222222222222222, \"#7201a8\"], [0.3333333333333333, \"#9c179e\"], [0.4444444444444444, \"#bd3786\"], [0.5555555555555556, \"#d8576b\"], [0.6666666666666666, \"#ed7953\"], [0.7777777777777778, \"#fb9f3a\"], [0.8888888888888888, \"#fdca26\"], [1.0, \"#f0f921\"]], \"sequentialminus\": [[0.0, \"#0d0887\"], [0.1111111111111111, \"#46039f\"], [0.2222222222222222, \"#7201a8\"], [0.3333333333333333, \"#9c179e\"], [0.4444444444444444, \"#bd3786\"], [0.5555555555555556, \"#d8576b\"], [0.6666666666666666, \"#ed7953\"], [0.7777777777777778, \"#fb9f3a\"], [0.8888888888888888, \"#fdca26\"], [1.0, \"#f0f921\"]]}, \"colorway\": [\"#636efa\", \"#EF553B\", \"#00cc96\", \"#ab63fa\", \"#FFA15A\", \"#19d3f3\", \"#FF6692\", \"#B6E880\", \"#FF97FF\", \"#FECB52\"], \"font\": {\"color\": \"#2a3f5f\"}, \"geo\": {\"bgcolor\": \"white\", \"lakecolor\": \"white\", \"landcolor\": \"white\", \"showlakes\": true, \"showland\": true, \"subunitcolor\": \"#C8D4E3\"}, \"hoverlabel\": {\"align\": \"left\"}, \"hovermode\": \"closest\", \"mapbox\": {\"style\": \"light\"}, \"paper_bgcolor\": \"white\", \"plot_bgcolor\": \"white\", \"polar\": {\"angularaxis\": {\"gridcolor\": \"#EBF0F8\", \"linecolor\": \"#EBF0F8\", \"ticks\": \"\"}, \"bgcolor\": \"white\", \"radialaxis\": {\"gridcolor\": \"#EBF0F8\", \"linecolor\": \"#EBF0F8\", \"ticks\": \"\"}}, \"scene\": {\"xaxis\": {\"backgroundcolor\": \"white\", \"gridcolor\": \"#DFE8F3\", \"gridwidth\": 2, \"linecolor\": \"#EBF0F8\", \"showbackground\": true, \"ticks\": \"\", \"zerolinecolor\": \"#EBF0F8\"}, \"yaxis\": {\"backgroundcolor\": \"white\", \"gridcolor\": \"#DFE8F3\", \"gridwidth\": 2, \"linecolor\": \"#EBF0F8\", \"showbackground\": true, \"ticks\": \"\", \"zerolinecolor\": \"#EBF0F8\"}, \"zaxis\": {\"backgroundcolor\": \"white\", \"gridcolor\": \"#DFE8F3\", \"gridwidth\": 2, \"linecolor\": \"#EBF0F8\", \"showbackground\": true, \"ticks\": \"\", \"zerolinecolor\": \"#EBF0F8\"}}, \"shapedefaults\": {\"line\": {\"color\": \"#2a3f5f\"}}, \"ternary\": {\"aaxis\": {\"gridcolor\": \"#DFE8F3\", \"linecolor\": \"#A2B1C6\", \"ticks\": \"\"}, \"baxis\": {\"gridcolor\": \"#DFE8F3\", \"linecolor\": \"#A2B1C6\", \"ticks\": \"\"}, \"bgcolor\": \"white\", \"caxis\": {\"gridcolor\": \"#DFE8F3\", \"linecolor\": \"#A2B1C6\", \"ticks\": \"\"}}, \"title\": {\"x\": 0.05}, \"xaxis\": {\"automargin\": true, \"gridcolor\": \"#EBF0F8\", \"linecolor\": \"#EBF0F8\", \"ticks\": \"\", \"title\": {\"standoff\": 15}, \"zerolinecolor\": \"#EBF0F8\", \"zerolinewidth\": 2}, \"yaxis\": {\"automargin\": true, \"gridcolor\": \"#EBF0F8\", \"linecolor\": \"#EBF0F8\", \"ticks\": \"\", \"title\": {\"standoff\": 15}, \"zerolinecolor\": \"#EBF0F8\", \"zerolinewidth\": 2}}}, \"xaxis\": {\"anchor\": \"y\", \"categoryarray\": [\"AI/AN\", \"Asian/PI\", \"Black\", \"Hispanic\", \"White\"], \"categoryorder\": \"array\", \"domain\": [0.0, 1.0], \"title\": {\"text\": \"Race/ethnicity\"}}, \"yaxis\": {\"anchor\": \"x\", \"domain\": [0.0, 1.0], \"title\": {\"text\": \"NUMBER OF HOSPITALIZATIONS\"}}},\n",
              "                        {\"responsive\": true}\n",
              "                    ).then(function(){\n",
              "                            \n",
              "var gd = document.getElementById('5be53267-629e-40a8-beef-c0328f1e7fa5');\n",
              "var x = new MutationObserver(function (mutations, observer) {{\n",
              "        var display = window.getComputedStyle(gd).display;\n",
              "        if (!display || display === 'none') {{\n",
              "            console.log([gd, 'removed!']);\n",
              "            Plotly.purge(gd);\n",
              "            observer.disconnect();\n",
              "        }}\n",
              "}});\n",
              "\n",
              "// Listen for the removal of the full notebook cells\n",
              "var notebookContainer = gd.closest('#notebook-container');\n",
              "if (notebookContainer) {{\n",
              "    x.observe(notebookContainer, {childList: true});\n",
              "}}\n",
              "\n",
              "// Listen for the clearing of the current output cell\n",
              "var outputEl = gd.closest('.output');\n",
              "if (outputEl) {{\n",
              "    x.observe(outputEl, {childList: true});\n",
              "}}\n",
              "\n",
              "                        })\n",
              "                };\n",
              "                \n",
              "            </script>\n",
              "        </div>\n",
              "</body>\n",
              "</html>"
            ]
          },
          "metadata": {
            "tags": []
          }
        }
      ]
    }
  ]
}